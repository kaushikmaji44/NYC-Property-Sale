{
 "cells": [
  {
   "cell_type": "markdown",
   "id": "eb2699ef",
   "metadata": {
    "id": "eb2699ef"
   },
   "source": [
    "**Dataset**\n",
    "\n",
    "The name of the dataset is sales.csv\n",
    "\n",
    "**Context**\n",
    "\n",
    "This dataset is a record of some building or building unit (apartment, etc.) sold in the New York City property market over a 8-month period.\n",
    "\n",
    "**Content**\n",
    "\n",
    "This dataset contains the location, address, type, sale price, and sale date of building units sold. A reference on the trickier fields:\n",
    "\n",
    "    BOROUGH: A digit code for the borough the property is located in; in order these are Manhattan (1), Bronx (2), Brooklyn (3), Queens (4), and Staten Island (5).\n",
    "    BLOCK, LOT: The combination of borough, block, and lot forms a unique key for property in New York City. Commonly called a BBL.\n",
    "\n",
    "Note that because this is a financial transaction dataset, there are some points that need to be kept in mind:\n",
    "\n",
    "    Many sales occur with a nonsensically small dollar amount: $0 most commonly. These sales are actually transfers of deeds between parties: for example, parents transferring ownership to their home to a child after moving out for retirement."
   ]
  },
  {
   "cell_type": "markdown",
   "id": "4b259d6d",
   "metadata": {
    "id": "4b259d6d"
   },
   "source": [
    "Import the sales.csv dataset"
   ]
  },
  {
   "cell_type": "code",
   "execution_count": 4,
   "id": "a604739b",
   "metadata": {
    "id": "a604739b"
   },
   "outputs": [],
   "source": [
    "import pandas as pd\n",
    "import matplotlib.pyplot as plt\n",
    "import seaborn as sns\n",
    "import warnings\n",
    "warnings.filterwarnings(\"ignore\")"
   ]
  },
  {
   "cell_type": "code",
   "execution_count": 2,
   "id": "R0wx0Tcz6FEY",
   "metadata": {
    "colab": {
     "base_uri": "https://localhost:8080/",
     "height": 35
    },
    "executionInfo": {
     "elapsed": 4,
     "status": "ok",
     "timestamp": 1704295167558,
     "user": {
      "displayName": "Md Rakib",
      "userId": "09827562849917036890"
     },
     "user_tz": -330
    },
    "id": "R0wx0Tcz6FEY",
    "outputId": "a2cabde2-1564-49d5-d29e-33a6bcdd786f"
   },
   "outputs": [
    {
     "data": {
      "text/plain": [
       "'2.2.2'"
      ]
     },
     "execution_count": 2,
     "metadata": {},
     "output_type": "execute_result"
    }
   ],
   "source": [
    "pd.__version__"
   ]
  },
  {
   "cell_type": "code",
   "execution_count": 5,
   "id": "7305d70d-a737-4eb5-8182-1229413be2a4",
   "metadata": {},
   "outputs": [],
   "source": [
    "sales=pd.read_csv(\"D:/IVY Class Importatnt/Python/Sales(1).csv\")"
   ]
  },
  {
   "cell_type": "code",
   "execution_count": 7,
   "id": "b9b762bf-c100-471d-b99a-1cd62836731a",
   "metadata": {},
   "outputs": [],
   "source": [
    "def bbl(x,y,z):\n",
    "    return str(x)+\"-\"+str(y)+\"-\"+str(z)\n",
    "\n",
    "sales['BBL'] = sales.apply(lambda x:bbl(x['BOROUGH'],x['BLOCK'],x['LOT']),axis=1)"
   ]
  },
  {
   "cell_type": "code",
   "execution_count": 8,
   "id": "9d28c052-3757-4c69-b33f-d087bc015c34",
   "metadata": {},
   "outputs": [],
   "source": [
    "import numpy as np\n",
    "def change_date(date):\n",
    "    if \"-\" in date:\n",
    "        return pd.to_datetime(date,format='%d-%m-%Y')\n",
    "    elif \"/\" in date:\n",
    "        return pd.to_datetime(date,format='%m/%d/%Y')\n",
    "    else:\n",
    "        return np.NaN"
   ]
  },
  {
   "cell_type": "code",
   "execution_count": 9,
   "id": "6d9df672-6b77-49c9-b467-cf05f6c21632",
   "metadata": {},
   "outputs": [],
   "source": [
    "sales['SALE_DATE'] = sales['SALE DATE'].apply(lambda x:change_date(x))"
   ]
  },
  {
   "cell_type": "code",
   "execution_count": 28,
   "id": "e0ad6fcc-218c-4d09-b6a2-9dbb0fd57d11",
   "metadata": {},
   "outputs": [],
   "source": [
    "sales = sales.drop_duplicates('BBL',keep = 'first')"
   ]
  },
  {
   "cell_type": "code",
   "execution_count": 16,
   "id": "30b21420-f5f2-484d-be6f-1942d46ec4dc",
   "metadata": {},
   "outputs": [],
   "source": [
    "sales = sales.sort_values(by = ['BBL','SALE_DATE'],ascending = [True,False])"
   ]
  },
  {
   "cell_type": "code",
   "execution_count": 32,
   "id": "98b5fb19-91f9-47ce-a393-b25fd292659d",
   "metadata": {},
   "outputs": [
    {
     "data": {
      "text/plain": [
       "(3475, 17)"
      ]
     },
     "execution_count": 32,
     "metadata": {},
     "output_type": "execute_result"
    }
   ],
   "source": [
    "sales.shape"
   ]
  },
  {
   "cell_type": "code",
   "execution_count": null,
   "id": "b7b5e6fb-6ff8-47a3-b136-a70d665735f8",
   "metadata": {},
   "outputs": [],
   "source": []
  },
  {
   "cell_type": "markdown",
   "id": "743e50cc",
   "metadata": {
    "id": "743e50cc"
   },
   "source": [
    "check the info of the dataset"
   ]
  },
  {
   "cell_type": "code",
   "execution_count": 29,
   "id": "FlhyOzLi7JlS",
   "metadata": {
    "id": "FlhyOzLi7JlS"
   },
   "outputs": [
    {
     "data": {
      "text/html": [
       "<div>\n",
       "<style scoped>\n",
       "    .dataframe tbody tr th:only-of-type {\n",
       "        vertical-align: middle;\n",
       "    }\n",
       "\n",
       "    .dataframe tbody tr th {\n",
       "        vertical-align: top;\n",
       "    }\n",
       "\n",
       "    .dataframe thead th {\n",
       "        text-align: right;\n",
       "    }\n",
       "</style>\n",
       "<table border=\"1\" class=\"dataframe\">\n",
       "  <thead>\n",
       "    <tr style=\"text-align: right;\">\n",
       "      <th></th>\n",
       "      <th>BOROUGH</th>\n",
       "      <th>NEIGHBORHOOD</th>\n",
       "      <th>BUILDING CLASS CATEGORY</th>\n",
       "      <th>TAX CLASS AT PRESENT</th>\n",
       "      <th>BLOCK</th>\n",
       "      <th>LOT</th>\n",
       "      <th>ADDRESS</th>\n",
       "      <th>ZIP CODE</th>\n",
       "      <th>RESIDENTIAL UNITS</th>\n",
       "      <th>COMMERCIAL UNITS</th>\n",
       "      <th>TOTAL UNITS</th>\n",
       "      <th>LAND SQUARE FEET</th>\n",
       "      <th>YEAR BUILT</th>\n",
       "      <th>SALE PRICE</th>\n",
       "      <th>SALE DATE</th>\n",
       "      <th>BBL</th>\n",
       "      <th>SALE_DATE</th>\n",
       "    </tr>\n",
       "  </thead>\n",
       "  <tbody>\n",
       "    <tr>\n",
       "      <th>2457</th>\n",
       "      <td>1</td>\n",
       "      <td>MIDTOWN WEST</td>\n",
       "      <td>13 CONDOS - ELEVATOR APARTMENTS</td>\n",
       "      <td>2</td>\n",
       "      <td>1003</td>\n",
       "      <td>1443</td>\n",
       "      <td>150 WEST 51ST STREET</td>\n",
       "      <td>10019</td>\n",
       "      <td>1</td>\n",
       "      <td>0</td>\n",
       "      <td>1</td>\n",
       "      <td>0</td>\n",
       "      <td>0</td>\n",
       "      <td>0</td>\n",
       "      <td>5/16/2017</td>\n",
       "      <td>1-1003-1443</td>\n",
       "      <td>2017-05-16</td>\n",
       "    </tr>\n",
       "    <tr>\n",
       "      <th>3021</th>\n",
       "      <td>1</td>\n",
       "      <td>MIDTOWN WEST</td>\n",
       "      <td>13 CONDOS - ELEVATOR APARTMENTS</td>\n",
       "      <td>2</td>\n",
       "      <td>1005</td>\n",
       "      <td>1087</td>\n",
       "      <td>135 WEST 52ND STREET</td>\n",
       "      <td>10019</td>\n",
       "      <td>1</td>\n",
       "      <td>0</td>\n",
       "      <td>1</td>\n",
       "      <td>0</td>\n",
       "      <td>1987</td>\n",
       "      <td>5050000</td>\n",
       "      <td>05-03-2017</td>\n",
       "      <td>1-1005-1087</td>\n",
       "      <td>2017-03-05</td>\n",
       "    </tr>\n",
       "    <tr>\n",
       "      <th>2865</th>\n",
       "      <td>1</td>\n",
       "      <td>MIDTOWN WEST</td>\n",
       "      <td>10 COOPS - ELEVATOR APARTMENTS</td>\n",
       "      <td>2</td>\n",
       "      <td>1007</td>\n",
       "      <td>54</td>\n",
       "      <td>150 WEST 55TH STREET, 8C</td>\n",
       "      <td>10019</td>\n",
       "      <td>0</td>\n",
       "      <td>0</td>\n",
       "      <td>0</td>\n",
       "      <td>0</td>\n",
       "      <td>1923</td>\n",
       "      <td>985000</td>\n",
       "      <td>08-09-2017</td>\n",
       "      <td>1-1007-54</td>\n",
       "      <td>2017-09-08</td>\n",
       "    </tr>\n",
       "    <tr>\n",
       "      <th>3218</th>\n",
       "      <td>1</td>\n",
       "      <td>MIDTOWN WEST</td>\n",
       "      <td>13 CONDOS - ELEVATOR APARTMENTS</td>\n",
       "      <td>2</td>\n",
       "      <td>1008</td>\n",
       "      <td>1199</td>\n",
       "      <td>150 WEST 56TH   STREET</td>\n",
       "      <td>10019</td>\n",
       "      <td>1</td>\n",
       "      <td>0</td>\n",
       "      <td>1</td>\n",
       "      <td>0</td>\n",
       "      <td>1987</td>\n",
       "      <td>725000</td>\n",
       "      <td>01-12-2017</td>\n",
       "      <td>1-1008-1199</td>\n",
       "      <td>2017-12-01</td>\n",
       "    </tr>\n",
       "    <tr>\n",
       "      <th>1675</th>\n",
       "      <td>1</td>\n",
       "      <td>MIDTOWN WEST</td>\n",
       "      <td>13 CONDOS - ELEVATOR APARTMENTS</td>\n",
       "      <td>2</td>\n",
       "      <td>1008</td>\n",
       "      <td>1216</td>\n",
       "      <td>150 WEST 56TH   STREET</td>\n",
       "      <td>10019</td>\n",
       "      <td>1</td>\n",
       "      <td>0</td>\n",
       "      <td>1</td>\n",
       "      <td>0</td>\n",
       "      <td>1987</td>\n",
       "      <td>1925000</td>\n",
       "      <td>1/25/2017</td>\n",
       "      <td>1-1008-1216</td>\n",
       "      <td>2017-01-25</td>\n",
       "    </tr>\n",
       "  </tbody>\n",
       "</table>\n",
       "</div>"
      ],
      "text/plain": [
       "      BOROUGH  NEIGHBORHOOD                      BUILDING CLASS CATEGORY  \\\n",
       "2457        1  MIDTOWN WEST  13 CONDOS - ELEVATOR APARTMENTS               \n",
       "3021        1  MIDTOWN WEST  13 CONDOS - ELEVATOR APARTMENTS               \n",
       "2865        1  MIDTOWN WEST  10 COOPS - ELEVATOR APARTMENTS                \n",
       "3218        1  MIDTOWN WEST  13 CONDOS - ELEVATOR APARTMENTS               \n",
       "1675        1  MIDTOWN WEST  13 CONDOS - ELEVATOR APARTMENTS               \n",
       "\n",
       "     TAX CLASS AT PRESENT  BLOCK   LOT                   ADDRESS  ZIP CODE  \\\n",
       "2457                    2   1003  1443      150 WEST 51ST STREET     10019   \n",
       "3021                    2   1005  1087      135 WEST 52ND STREET     10019   \n",
       "2865                    2   1007    54  150 WEST 55TH STREET, 8C     10019   \n",
       "3218                    2   1008  1199    150 WEST 56TH   STREET     10019   \n",
       "1675                    2   1008  1216    150 WEST 56TH   STREET     10019   \n",
       "\n",
       "      RESIDENTIAL UNITS  COMMERCIAL UNITS  TOTAL UNITS  LAND SQUARE FEET  \\\n",
       "2457                  1                 0            1                 0   \n",
       "3021                  1                 0            1                 0   \n",
       "2865                  0                 0            0                 0   \n",
       "3218                  1                 0            1                 0   \n",
       "1675                  1                 0            1                 0   \n",
       "\n",
       "      YEAR BUILT  SALE PRICE   SALE DATE          BBL  SALE_DATE  \n",
       "2457           0           0   5/16/2017  1-1003-1443 2017-05-16  \n",
       "3021        1987     5050000  05-03-2017  1-1005-1087 2017-03-05  \n",
       "2865        1923      985000  08-09-2017    1-1007-54 2017-09-08  \n",
       "3218        1987      725000  01-12-2017  1-1008-1199 2017-12-01  \n",
       "1675        1987     1925000   1/25/2017  1-1008-1216 2017-01-25  "
      ]
     },
     "execution_count": 29,
     "metadata": {},
     "output_type": "execute_result"
    }
   ],
   "source": [
    "sales.head()"
   ]
  },
  {
   "cell_type": "code",
   "execution_count": 30,
   "id": "72fjrL635xCs",
   "metadata": {
    "id": "72fjrL635xCs"
   },
   "outputs": [
    {
     "name": "stdout",
     "output_type": "stream",
     "text": [
      "<class 'pandas.core.frame.DataFrame'>\n",
      "Index: 3475 entries, 2457 to 493\n",
      "Data columns (total 17 columns):\n",
      " #   Column                   Non-Null Count  Dtype         \n",
      "---  ------                   --------------  -----         \n",
      " 0   BOROUGH                  3475 non-null   int64         \n",
      " 1   NEIGHBORHOOD             3475 non-null   object        \n",
      " 2   BUILDING CLASS CATEGORY  3475 non-null   object        \n",
      " 3   TAX CLASS AT PRESENT     3475 non-null   object        \n",
      " 4   BLOCK                    3475 non-null   int64         \n",
      " 5   LOT                      3475 non-null   int64         \n",
      " 6   ADDRESS                  3475 non-null   object        \n",
      " 7   ZIP CODE                 3475 non-null   int64         \n",
      " 8   RESIDENTIAL UNITS        3475 non-null   int64         \n",
      " 9   COMMERCIAL UNITS         3475 non-null   int64         \n",
      " 10  TOTAL UNITS              3475 non-null   int64         \n",
      " 11  LAND SQUARE FEET         3475 non-null   int64         \n",
      " 12  YEAR BUILT               3475 non-null   int64         \n",
      " 13  SALE PRICE               3475 non-null   int64         \n",
      " 14  SALE DATE                3475 non-null   object        \n",
      " 15  BBL                      3475 non-null   object        \n",
      " 16  SALE_DATE                3475 non-null   datetime64[ns]\n",
      "dtypes: datetime64[ns](1), int64(10), object(6)\n",
      "memory usage: 488.7+ KB\n"
     ]
    }
   ],
   "source": [
    "sales.info()"
   ]
  },
  {
   "cell_type": "markdown",
   "id": "4f7578b5",
   "metadata": {
    "id": "4f7578b5"
   },
   "source": [
    "check the description of the dataset"
   ]
  },
  {
   "cell_type": "code",
   "execution_count": 19,
   "id": "1b455577",
   "metadata": {
    "id": "1b455577"
   },
   "outputs": [
    {
     "data": {
      "text/html": [
       "<div>\n",
       "<style scoped>\n",
       "    .dataframe tbody tr th:only-of-type {\n",
       "        vertical-align: middle;\n",
       "    }\n",
       "\n",
       "    .dataframe tbody tr th {\n",
       "        vertical-align: top;\n",
       "    }\n",
       "\n",
       "    .dataframe thead th {\n",
       "        text-align: right;\n",
       "    }\n",
       "</style>\n",
       "<table border=\"1\" class=\"dataframe\">\n",
       "  <thead>\n",
       "    <tr style=\"text-align: right;\">\n",
       "      <th></th>\n",
       "      <th>BOROUGH</th>\n",
       "      <th>BLOCK</th>\n",
       "      <th>LOT</th>\n",
       "      <th>ZIP CODE</th>\n",
       "      <th>RESIDENTIAL UNITS</th>\n",
       "      <th>COMMERCIAL UNITS</th>\n",
       "      <th>TOTAL UNITS</th>\n",
       "      <th>LAND SQUARE FEET</th>\n",
       "      <th>YEAR BUILT</th>\n",
       "      <th>SALE PRICE</th>\n",
       "      <th>SALE_DATE</th>\n",
       "    </tr>\n",
       "  </thead>\n",
       "  <tbody>\n",
       "    <tr>\n",
       "      <th>count</th>\n",
       "      <td>3579.000000</td>\n",
       "      <td>3579.000000</td>\n",
       "      <td>3579.000000</td>\n",
       "      <td>3579.000000</td>\n",
       "      <td>3579.000000</td>\n",
       "      <td>3579.000000</td>\n",
       "      <td>3579.000000</td>\n",
       "      <td>3.579000e+03</td>\n",
       "      <td>3579.000000</td>\n",
       "      <td>3.579000e+03</td>\n",
       "      <td>3579</td>\n",
       "    </tr>\n",
       "    <tr>\n",
       "      <th>mean</th>\n",
       "      <td>2.966192</td>\n",
       "      <td>4150.419670</td>\n",
       "      <td>381.842414</td>\n",
       "      <td>10680.873987</td>\n",
       "      <td>2.290025</td>\n",
       "      <td>0.153674</td>\n",
       "      <td>2.473875</td>\n",
       "      <td>3.605483e+03</td>\n",
       "      <td>1782.920648</td>\n",
       "      <td>1.005316e+06</td>\n",
       "      <td>2017-05-25 09:19:39.882648832</td>\n",
       "    </tr>\n",
       "    <tr>\n",
       "      <th>min</th>\n",
       "      <td>1.000000</td>\n",
       "      <td>3.000000</td>\n",
       "      <td>1.000000</td>\n",
       "      <td>0.000000</td>\n",
       "      <td>0.000000</td>\n",
       "      <td>0.000000</td>\n",
       "      <td>0.000000</td>\n",
       "      <td>0.000000e+00</td>\n",
       "      <td>0.000000</td>\n",
       "      <td>0.000000e+00</td>\n",
       "      <td>2017-01-02 00:00:00</td>\n",
       "    </tr>\n",
       "    <tr>\n",
       "      <th>25%</th>\n",
       "      <td>2.000000</td>\n",
       "      <td>1323.500000</td>\n",
       "      <td>22.000000</td>\n",
       "      <td>10303.000000</td>\n",
       "      <td>0.000000</td>\n",
       "      <td>0.000000</td>\n",
       "      <td>1.000000</td>\n",
       "      <td>0.000000e+00</td>\n",
       "      <td>1920.000000</td>\n",
       "      <td>0.000000e+00</td>\n",
       "      <td>2017-03-20 00:00:00</td>\n",
       "    </tr>\n",
       "    <tr>\n",
       "      <th>50%</th>\n",
       "      <td>3.000000</td>\n",
       "      <td>3164.000000</td>\n",
       "      <td>50.000000</td>\n",
       "      <td>11208.000000</td>\n",
       "      <td>1.000000</td>\n",
       "      <td>0.000000</td>\n",
       "      <td>1.000000</td>\n",
       "      <td>1.710000e+03</td>\n",
       "      <td>1940.000000</td>\n",
       "      <td>4.300000e+05</td>\n",
       "      <td>2017-05-25 00:00:00</td>\n",
       "    </tr>\n",
       "    <tr>\n",
       "      <th>75%</th>\n",
       "      <td>4.000000</td>\n",
       "      <td>6067.500000</td>\n",
       "      <td>1002.000000</td>\n",
       "      <td>11355.000000</td>\n",
       "      <td>2.000000</td>\n",
       "      <td>0.000000</td>\n",
       "      <td>2.000000</td>\n",
       "      <td>2.668500e+03</td>\n",
       "      <td>1966.000000</td>\n",
       "      <td>8.475000e+05</td>\n",
       "      <td>2017-07-21 00:00:00</td>\n",
       "    </tr>\n",
       "    <tr>\n",
       "      <th>max</th>\n",
       "      <td>5.000000</td>\n",
       "      <td>16316.000000</td>\n",
       "      <td>7232.000000</td>\n",
       "      <td>11694.000000</td>\n",
       "      <td>1844.000000</td>\n",
       "      <td>184.000000</td>\n",
       "      <td>1866.000000</td>\n",
       "      <td>4.228300e+06</td>\n",
       "      <td>2017.000000</td>\n",
       "      <td>8.637500e+07</td>\n",
       "      <td>2017-12-08 00:00:00</td>\n",
       "    </tr>\n",
       "    <tr>\n",
       "      <th>std</th>\n",
       "      <td>1.294840</td>\n",
       "      <td>3531.382379</td>\n",
       "      <td>637.913571</td>\n",
       "      <td>1447.476149</td>\n",
       "      <td>31.872076</td>\n",
       "      <td>3.250381</td>\n",
       "      <td>32.387727</td>\n",
       "      <td>7.225966e+04</td>\n",
       "      <td>547.202378</td>\n",
       "      <td>3.513772e+06</td>\n",
       "      <td>NaN</td>\n",
       "    </tr>\n",
       "  </tbody>\n",
       "</table>\n",
       "</div>"
      ],
      "text/plain": [
       "           BOROUGH         BLOCK          LOT      ZIP CODE  \\\n",
       "count  3579.000000   3579.000000  3579.000000   3579.000000   \n",
       "mean      2.966192   4150.419670   381.842414  10680.873987   \n",
       "min       1.000000      3.000000     1.000000      0.000000   \n",
       "25%       2.000000   1323.500000    22.000000  10303.000000   \n",
       "50%       3.000000   3164.000000    50.000000  11208.000000   \n",
       "75%       4.000000   6067.500000  1002.000000  11355.000000   \n",
       "max       5.000000  16316.000000  7232.000000  11694.000000   \n",
       "std       1.294840   3531.382379   637.913571   1447.476149   \n",
       "\n",
       "       RESIDENTIAL UNITS  COMMERCIAL UNITS  TOTAL UNITS  LAND SQUARE FEET  \\\n",
       "count        3579.000000       3579.000000  3579.000000      3.579000e+03   \n",
       "mean            2.290025          0.153674     2.473875      3.605483e+03   \n",
       "min             0.000000          0.000000     0.000000      0.000000e+00   \n",
       "25%             0.000000          0.000000     1.000000      0.000000e+00   \n",
       "50%             1.000000          0.000000     1.000000      1.710000e+03   \n",
       "75%             2.000000          0.000000     2.000000      2.668500e+03   \n",
       "max          1844.000000        184.000000  1866.000000      4.228300e+06   \n",
       "std            31.872076          3.250381    32.387727      7.225966e+04   \n",
       "\n",
       "        YEAR BUILT    SALE PRICE                      SALE_DATE  \n",
       "count  3579.000000  3.579000e+03                           3579  \n",
       "mean   1782.920648  1.005316e+06  2017-05-25 09:19:39.882648832  \n",
       "min       0.000000  0.000000e+00            2017-01-02 00:00:00  \n",
       "25%    1920.000000  0.000000e+00            2017-03-20 00:00:00  \n",
       "50%    1940.000000  4.300000e+05            2017-05-25 00:00:00  \n",
       "75%    1966.000000  8.475000e+05            2017-07-21 00:00:00  \n",
       "max    2017.000000  8.637500e+07            2017-12-08 00:00:00  \n",
       "std     547.202378  3.513772e+06                            NaN  "
      ]
     },
     "execution_count": 19,
     "metadata": {},
     "output_type": "execute_result"
    }
   ],
   "source": [
    "sales.describe()"
   ]
  },
  {
   "cell_type": "code",
   "execution_count": 20,
   "id": "869049b9-10c4-46d1-b886-da282475cc69",
   "metadata": {},
   "outputs": [
    {
     "data": {
      "text/html": [
       "<div>\n",
       "<style scoped>\n",
       "    .dataframe tbody tr th:only-of-type {\n",
       "        vertical-align: middle;\n",
       "    }\n",
       "\n",
       "    .dataframe tbody tr th {\n",
       "        vertical-align: top;\n",
       "    }\n",
       "\n",
       "    .dataframe thead th {\n",
       "        text-align: right;\n",
       "    }\n",
       "</style>\n",
       "<table border=\"1\" class=\"dataframe\">\n",
       "  <thead>\n",
       "    <tr style=\"text-align: right;\">\n",
       "      <th></th>\n",
       "      <th>BOROUGH</th>\n",
       "      <th>NEIGHBORHOOD</th>\n",
       "      <th>BUILDING CLASS CATEGORY</th>\n",
       "      <th>TAX CLASS AT PRESENT</th>\n",
       "      <th>BLOCK</th>\n",
       "      <th>LOT</th>\n",
       "      <th>ADDRESS</th>\n",
       "      <th>ZIP CODE</th>\n",
       "      <th>RESIDENTIAL UNITS</th>\n",
       "      <th>COMMERCIAL UNITS</th>\n",
       "      <th>TOTAL UNITS</th>\n",
       "      <th>LAND SQUARE FEET</th>\n",
       "      <th>YEAR BUILT</th>\n",
       "      <th>SALE PRICE</th>\n",
       "      <th>SALE DATE</th>\n",
       "      <th>BBL</th>\n",
       "      <th>SALE_DATE</th>\n",
       "    </tr>\n",
       "  </thead>\n",
       "  <tbody>\n",
       "    <tr>\n",
       "      <th>1681</th>\n",
       "      <td>5</td>\n",
       "      <td>DONGAN HILLS-COLONY</td>\n",
       "      <td>01 ONE FAMILY DWELLINGS</td>\n",
       "      <td>1</td>\n",
       "      <td>841</td>\n",
       "      <td>79</td>\n",
       "      <td>163 WILSON TERRACE</td>\n",
       "      <td>10304</td>\n",
       "      <td>1</td>\n",
       "      <td>0</td>\n",
       "      <td>1</td>\n",
       "      <td>4000</td>\n",
       "      <td>1955</td>\n",
       "      <td>640000</td>\n",
       "      <td>3/28/2017</td>\n",
       "      <td>5-841-79</td>\n",
       "      <td>2017-03-28</td>\n",
       "    </tr>\n",
       "    <tr>\n",
       "      <th>2064</th>\n",
       "      <td>5</td>\n",
       "      <td>DONGAN HILLS-COLONY</td>\n",
       "      <td>01 ONE FAMILY DWELLINGS</td>\n",
       "      <td>1</td>\n",
       "      <td>848</td>\n",
       "      <td>228</td>\n",
       "      <td>107 SPARKILL AVENUE</td>\n",
       "      <td>10304</td>\n",
       "      <td>1</td>\n",
       "      <td>0</td>\n",
       "      <td>1</td>\n",
       "      <td>4000</td>\n",
       "      <td>1940</td>\n",
       "      <td>510000</td>\n",
       "      <td>1/23/2017</td>\n",
       "      <td>5-848-228</td>\n",
       "      <td>2017-01-23</td>\n",
       "    </tr>\n",
       "    <tr>\n",
       "      <th>2539</th>\n",
       "      <td>5</td>\n",
       "      <td>DONGAN HILLS-COLONY</td>\n",
       "      <td>02 TWO FAMILY DWELLINGS</td>\n",
       "      <td>1</td>\n",
       "      <td>869</td>\n",
       "      <td>647</td>\n",
       "      <td>17 ROCHELLE STREET</td>\n",
       "      <td>10304</td>\n",
       "      <td>2</td>\n",
       "      <td>0</td>\n",
       "      <td>2</td>\n",
       "      <td>8800</td>\n",
       "      <td>1955</td>\n",
       "      <td>0</td>\n",
       "      <td>03-06-2017</td>\n",
       "      <td>5-869-647</td>\n",
       "      <td>2017-06-03</td>\n",
       "    </tr>\n",
       "    <tr>\n",
       "      <th>1587</th>\n",
       "      <td>5</td>\n",
       "      <td>TODT HILL</td>\n",
       "      <td>01 ONE FAMILY DWELLINGS</td>\n",
       "      <td>1</td>\n",
       "      <td>881</td>\n",
       "      <td>280</td>\n",
       "      <td>1 BUTTONWOOD ROAD</td>\n",
       "      <td>10304</td>\n",
       "      <td>1</td>\n",
       "      <td>0</td>\n",
       "      <td>1</td>\n",
       "      <td>12154</td>\n",
       "      <td>1975</td>\n",
       "      <td>1735000</td>\n",
       "      <td>04-04-2017</td>\n",
       "      <td>5-881-280</td>\n",
       "      <td>2017-04-04</td>\n",
       "    </tr>\n",
       "    <tr>\n",
       "      <th>493</th>\n",
       "      <td>5</td>\n",
       "      <td>TODT HILL</td>\n",
       "      <td>01 ONE FAMILY DWELLINGS</td>\n",
       "      <td>1</td>\n",
       "      <td>882</td>\n",
       "      <td>250</td>\n",
       "      <td>426 WOODDALE AVENUE</td>\n",
       "      <td>10301</td>\n",
       "      <td>1</td>\n",
       "      <td>0</td>\n",
       "      <td>1</td>\n",
       "      <td>10000</td>\n",
       "      <td>1950</td>\n",
       "      <td>0</td>\n",
       "      <td>7/18/2017</td>\n",
       "      <td>5-882-250</td>\n",
       "      <td>2017-07-18</td>\n",
       "    </tr>\n",
       "  </tbody>\n",
       "</table>\n",
       "</div>"
      ],
      "text/plain": [
       "      BOROUGH         NEIGHBORHOOD  \\\n",
       "1681        5  DONGAN HILLS-COLONY   \n",
       "2064        5  DONGAN HILLS-COLONY   \n",
       "2539        5  DONGAN HILLS-COLONY   \n",
       "1587        5            TODT HILL   \n",
       "493         5            TODT HILL   \n",
       "\n",
       "                          BUILDING CLASS CATEGORY TAX CLASS AT PRESENT  BLOCK  \\\n",
       "1681  01 ONE FAMILY DWELLINGS                                        1    841   \n",
       "2064  01 ONE FAMILY DWELLINGS                                        1    848   \n",
       "2539  02 TWO FAMILY DWELLINGS                                        1    869   \n",
       "1587  01 ONE FAMILY DWELLINGS                                        1    881   \n",
       "493   01 ONE FAMILY DWELLINGS                                        1    882   \n",
       "\n",
       "      LOT              ADDRESS  ZIP CODE  RESIDENTIAL UNITS  COMMERCIAL UNITS  \\\n",
       "1681   79   163 WILSON TERRACE     10304                  1                 0   \n",
       "2064  228  107 SPARKILL AVENUE     10304                  1                 0   \n",
       "2539  647   17 ROCHELLE STREET     10304                  2                 0   \n",
       "1587  280    1 BUTTONWOOD ROAD     10304                  1                 0   \n",
       "493   250  426 WOODDALE AVENUE     10301                  1                 0   \n",
       "\n",
       "      TOTAL UNITS  LAND SQUARE FEET  YEAR BUILT  SALE PRICE   SALE DATE  \\\n",
       "1681            1              4000        1955      640000   3/28/2017   \n",
       "2064            1              4000        1940      510000   1/23/2017   \n",
       "2539            2              8800        1955           0  03-06-2017   \n",
       "1587            1             12154        1975     1735000  04-04-2017   \n",
       "493             1             10000        1950           0   7/18/2017   \n",
       "\n",
       "            BBL  SALE_DATE  \n",
       "1681   5-841-79 2017-03-28  \n",
       "2064  5-848-228 2017-01-23  \n",
       "2539  5-869-647 2017-06-03  \n",
       "1587  5-881-280 2017-04-04  \n",
       "493   5-882-250 2017-07-18  "
      ]
     },
     "execution_count": 20,
     "metadata": {},
     "output_type": "execute_result"
    }
   ],
   "source": [
    "sales.tail()"
   ]
  },
  {
   "cell_type": "code",
   "execution_count": null,
   "id": "5962abe1-9953-42c5-a3ce-17721a531e45",
   "metadata": {},
   "outputs": [],
   "source": []
  },
  {
   "cell_type": "markdown",
   "id": "5be54580",
   "metadata": {
    "id": "5be54580"
   },
   "source": [
    "Read this - BOROUGH: A digit code for the borough the property is located in; in order these are Manhattan (1), Bronx (2), Brooklyn (3), Queens (4), and Staten Island (5).\n",
    "\n",
    "After reading answers the following questions :-\n",
    "1. How many property is located in Manhattan (1).\n",
    "2. How many property is located in Bronx (2).\n",
    "3. How many property is located in Brooklyn (3).\n",
    "4. How many property is located in Queens (4).\n",
    "5. How many property is located in Staten Island (5)."
   ]
  },
  {
   "cell_type": "code",
   "execution_count": 33,
   "id": "796e3916",
   "metadata": {
    "id": "796e3916"
   },
   "outputs": [],
   "source": [
    "borough_counts = sales['BOROUGH'].value_counts()"
   ]
  },
  {
   "cell_type": "code",
   "execution_count": 34,
   "id": "769ddf9b",
   "metadata": {
    "id": "769ddf9b"
   },
   "outputs": [
    {
     "name": "stdout",
     "output_type": "stream",
     "text": [
      "\n",
      "Number of properties in each borough:\n",
      "Manhattan (1): 765\n",
      "Bronx (2): 295\n",
      "Brooklyn (3): 1010\n",
      "Queens (4): 1059\n",
      "Staten Island (5): 346\n"
     ]
    }
   ],
   "source": [
    "print(\"\\nNumber of properties in each borough:\")\n",
    "print(f\"Manhattan (1): {borough_counts.get(1, 0)}\")\n",
    "print(f\"Bronx (2): {borough_counts.get(2, 0)}\")\n",
    "print(f\"Brooklyn (3): {borough_counts.get(3, 0)}\")\n",
    "print(f\"Queens (4): {borough_counts.get(4, 0)}\")\n",
    "print(f\"Staten Island (5): {borough_counts.get(5, 0)}\")"
   ]
  },
  {
   "cell_type": "code",
   "execution_count": 35,
   "id": "b6b68d47",
   "metadata": {
    "id": "b6b68d47"
   },
   "outputs": [
    {
     "data": {
      "text/plain": [
       "{'Manhattan (1)': 765,\n",
       " 'Bronx (2)': 295,\n",
       " 'Brooklyn (3)': 1010,\n",
       " 'Queens (4)': 1059,\n",
       " 'Staten Island (5)': 346}"
      ]
     },
     "execution_count": 35,
     "metadata": {},
     "output_type": "execute_result"
    }
   ],
   "source": [
    "borough_counts = sales['BOROUGH'].value_counts()\n",
    "borough_summary = {\n",
    "    \"Manhattan (1)\": borough_counts.get(1, 0),\n",
    "    \"Bronx (2)\": borough_counts.get(2, 0),\n",
    "    \"Brooklyn (3)\": borough_counts.get(3, 0),\n",
    "    \"Queens (4)\": borough_counts.get(4, 0),\n",
    "    \"Staten Island (5)\": borough_counts.get(5, 0)\n",
    "}\n",
    "borough_summary"
   ]
  },
  {
   "cell_type": "markdown",
   "id": "ee09311b",
   "metadata": {
    "id": "ee09311b"
   },
   "source": [
    "1. How many property have more than 60 RESIDENTIAL UNITS.\n",
    "2. How many property have 10 COMMERCIAL UNITS.\n",
    "3. How many property have 300 TOTAL UNITS.\n",
    "4. How many property have at least 40 RESIDENTIAL UNITS as well as at least 10 COMMERCIAL UNITS.\n",
    "5. How many property have zero RESIDENTIAL UNITS.\n",
    "6. How many property have zero COMMERCIAL UNITS."
   ]
  },
  {
   "cell_type": "code",
   "execution_count": 36,
   "id": "c4c4515c-3141-4e56-a532-42e3917363da",
   "metadata": {},
   "outputs": [],
   "source": [
    "a = sales[sales['RESIDENTIAL UNITS'] > 60].shape[0]\n",
    "b = sales[sales['COMMERCIAL UNITS'] == 10].shape[0]\n",
    "c = sales[sales['TOTAL UNITS'] == 300].shape[0]"
   ]
  },
  {
   "cell_type": "code",
   "execution_count": 37,
   "id": "35801eb4-903c-43ac-9901-18fb3f6c8495",
   "metadata": {},
   "outputs": [],
   "source": [
    "d = sales[(sales['RESIDENTIAL UNITS'] >= 40) & (sales['COMMERCIAL UNITS'] >= 10)].shape[0]\n",
    "e = sales[sales['RESIDENTIAL UNITS'] == 0].shape[0]\n",
    "f = sales[sales['COMMERCIAL UNITS'] == 0].shape[0]"
   ]
  },
  {
   "cell_type": "code",
   "execution_count": 38,
   "id": "7209c77f-2575-4ddb-87e5-e21d1f369bc4",
   "metadata": {},
   "outputs": [
    {
     "data": {
      "text/plain": [
       "{'Properties with more than 60 Residential Units': 8,\n",
       " 'Properties with exactly 10 Commercial Units': 0,\n",
       " 'Properties with exactly 300 Total Units': 0,\n",
       " 'Properties with at least 40 Residential Units and at least 10 Commercial Units': 0,\n",
       " 'Properties with zero Residential Units': 959,\n",
       " 'Properties with zero Commercial Units': 3279}"
      ]
     },
     "execution_count": 38,
     "metadata": {},
     "output_type": "execute_result"
    }
   ],
   "source": [
    "summary = {\n",
    "    \"Properties with more than 60 Residential Units\": a,\n",
    "    \"Properties with exactly 10 Commercial Units\": b,\n",
    "    \"Properties with exactly 300 Total Units\": c,\n",
    "    \"Properties with at least 40 Residential Units and at least 10 Commercial Units\": d,\n",
    "    \"Properties with zero Residential Units\": e,\n",
    "    \"Properties with zero Commercial Units\": f\n",
    "}\n",
    "summary"
   ]
  },
  {
   "cell_type": "code",
   "execution_count": null,
   "id": "51028d68-36bf-4f49-bd6d-7b4826157c54",
   "metadata": {},
   "outputs": [],
   "source": []
  },
  {
   "cell_type": "markdown",
   "id": "39163193",
   "metadata": {
    "id": "39163193"
   },
   "source": [
    "How many Property have zero SALE PRICE"
   ]
  },
  {
   "cell_type": "code",
   "execution_count": 39,
   "id": "7fc39abb",
   "metadata": {
    "id": "7fc39abb"
   },
   "outputs": [
    {
     "data": {
      "text/plain": [
       "1009"
      ]
     },
     "execution_count": 39,
     "metadata": {},
     "output_type": "execute_result"
    }
   ],
   "source": [
    "sales[sales['SALE PRICE'] == 0].shape[0]"
   ]
  },
  {
   "cell_type": "markdown",
   "id": "5ea7a2b5",
   "metadata": {
    "id": "5ea7a2b5"
   },
   "source": [
    "How many property have more than 10000 LAND SQUARE FEET and build befor 1970"
   ]
  },
  {
   "cell_type": "code",
   "execution_count": 40,
   "id": "da9509e2",
   "metadata": {
    "id": "da9509e2"
   },
   "outputs": [
    {
     "data": {
      "text/plain": [
       "45"
      ]
     },
     "execution_count": 40,
     "metadata": {},
     "output_type": "execute_result"
    }
   ],
   "source": [
    "sales[(sales[\"LAND SQUARE FEET\"] > 10000) & (sales[\"YEAR BUILT\"] < 1970)].shape[0]"
   ]
  },
  {
   "cell_type": "markdown",
   "id": "ee42ad01",
   "metadata": {
    "id": "ee42ad01"
   },
   "source": [
    "How many total properties have \"1A\", \"2A\" `TAX CLASS AT PRESENT` respectively also have at least 1 million dollar `SALE PRICE`"
   ]
  },
  {
   "cell_type": "code",
   "execution_count": 41,
   "id": "d18580ab",
   "metadata": {
    "id": "d18580ab"
   },
   "outputs": [
    {
     "data": {
      "text/plain": [
       "{'1A': 0, '2A': 34}"
      ]
     },
     "execution_count": 41,
     "metadata": {},
     "output_type": "execute_result"
    }
   ],
   "source": [
    "count = {tax_class: sales[(sales['TAX CLASS AT PRESENT'] == tax_class) & (sales['SALE PRICE'] >= 1000000)].shape[0] for tax_class in ['1A', '2A']}\n",
    "count"
   ]
  },
  {
   "cell_type": "markdown",
   "id": "5cb341dc",
   "metadata": {
    "id": "5cb341dc"
   },
   "source": [
    "How many Property were build in 1980's decade"
   ]
  },
  {
   "cell_type": "code",
   "execution_count": 42,
   "id": "2c986c8d",
   "metadata": {
    "id": "2c986c8d"
   },
   "outputs": [
    {
     "data": {
      "text/plain": [
       "148"
      ]
     },
     "execution_count": 42,
     "metadata": {},
     "output_type": "execute_result"
    }
   ],
   "source": [
    "sales[(sales['YEAR BUILT'] >= 1980) & (sales['YEAR BUILT'] < 1990)].shape[0]"
   ]
  },
  {
   "cell_type": "markdown",
   "id": "oXe8oFb8fZu4",
   "metadata": {
    "id": "oXe8oFb8fZu4"
   },
   "source": [
    "Create a dual-axis plot for each month that effectively visualizes the average sale price per month alongside the number of properties sold, and annotate the plot to display exact values for both metrics?"
   ]
  },
  {
   "cell_type": "code",
   "execution_count": 44,
   "id": "e762da9a-f7d8-4eaa-8a3d-b283a588e1c4",
   "metadata": {},
   "outputs": [
    {
     "data": {
      "image/png": "[encoded data removed]",
      "text/plain": [
       "<Figure size 1200x600 with 2 Axes>"
      ]
     },
     "metadata": {},
     "output_type": "display_data"
    }
   ],
   "source": [
    "sales['SALE_DATE'] = pd.to_datetime(sales['SALE_DATE'])\n",
    "sales['Month'] = sales['SALE_DATE'].dt.month\n",
    "sales['Year'] = sales['SALE_DATE'].dt.year\n",
    "\n",
    "monthly_data = sales.groupby(['Year', 'Month']).agg(average_sale_price=('SALE PRICE', 'mean'), properties_sold=('BLOCK', 'count')).reset_index()\n",
    "\n",
    "fig, ax1 = plt.subplots(figsize=(12, 6))\n",
    "\n",
    "ax1.set_xlabel('Month')\n",
    "ax1.set_ylabel('Average Sale Price ($)', color='tab:blue')\n",
    "ax1.plot(monthly_data['Month'], monthly_data['average_sale_price'], color='tab:blue', marker='o', label='Average Sale Price')\n",
    "ax1.tick_params(axis='y', labelcolor='tab:blue')\n",
    "\n",
    "ax2 = ax1.twinx()\n",
    "ax2.set_ylabel('Number of Properties Sold', color='tab:red')\n",
    "ax2.bar(monthly_data['Month'], monthly_data['properties_sold'], color='tab:red', alpha=0.6, label='Properties Sold')\n",
    "ax2.tick_params(axis='y', labelcolor='tab:red')\n",
    "\n",
    "for i, value in enumerate(monthly_data['average_sale_price']):\n",
    "    ax1.annotate(f'{value:.2f}', (monthly_data['Month'][i], value), textcoords=\"offset points\", xytext=(0,10), ha='center')\n",
    "\n",
    "for i, value in enumerate(monthly_data['properties_sold']):\n",
    "    ax2.annotate(f'{value}', (monthly_data['Month'][i], value), textcoords=\"offset points\", xytext=(0,10), ha='center')\n",
    "\n",
    "plt.title('Average Sale Price and Number of Properties Sold per Month')\n",
    "fig.tight_layout()\n",
    "plt.show()"
   ]
  }
 ],
 "metadata": {
  "colab": {
   "provenance": []
  },
  "kernelspec": {
   "display_name": "Python 3 (ipykernel)",
   "language": "python",
   "name": "python3"
  },
  "language_info": {
   "codemirror_mode": {
    "name": "ipython",
    "version": 3
   },
   "file_extension": ".py",
   "mimetype": "text/x-python",
   "name": "python",
   "nbconvert_exporter": "python",
   "pygments_lexer": "ipython3",
   "version": "3.12.7"
  },
  "vscode": {
   "interpreter": {
    "hash": "11938c6bc6919ae2720b4d5011047913343b08a43b18698fd82dedb0d4417594"
   }
  }
 },
 "nbformat": 4,
 "nbformat_minor": 5
}
